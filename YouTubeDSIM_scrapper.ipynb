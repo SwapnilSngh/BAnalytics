{
 "cells": [
  {
   "cell_type": "code",
   "execution_count": 6,
   "metadata": {},
   "outputs": [
    {
     "name": "stdout",
     "output_type": "stream",
     "text": [
      "Collecting google-api-python-client\n",
      "  Downloading google_api_python_client-2.12.0-py2.py3-none-any.whl (7.1 MB)\n",
      "Collecting google-auth-httplib2>=0.1.0\n",
      "  Downloading google_auth_httplib2-0.1.0-py2.py3-none-any.whl (9.3 kB)\n",
      "Collecting httplib2<1dev,>=0.15.0\n",
      "  Downloading httplib2-0.19.1-py3-none-any.whl (95 kB)\n",
      "Collecting google-api-core<2dev,>=1.21.0\n",
      "  Downloading google_api_core-1.30.0-py2.py3-none-any.whl (93 kB)\n",
      "Collecting uritemplate<4dev,>=3.0.0\n",
      "  Downloading uritemplate-3.0.1-py2.py3-none-any.whl (15 kB)\n",
      "Requirement already satisfied: six<2dev,>=1.13.0 in c:\\users\\rajesh kumar\\anaconda3\\lib\\site-packages (from google-api-python-client) (1.15.0)\n",
      "Collecting google-auth<2dev,>=1.16.0\n",
      "  Downloading google_auth-1.32.1-py2.py3-none-any.whl (147 kB)\n",
      "Requirement already satisfied: pyparsing<3,>=2.4.2 in c:\\users\\rajesh kumar\\anaconda3\\lib\\site-packages (from httplib2<1dev,>=0.15.0->google-api-python-client) (2.4.7)\n",
      "Requirement already satisfied: pytz in c:\\users\\rajesh kumar\\anaconda3\\lib\\site-packages (from google-api-core<2dev,>=1.21.0->google-api-python-client) (2020.1)\n",
      "Collecting protobuf>=3.12.0\n",
      "  Downloading protobuf-3.17.3-cp38-cp38-win_amd64.whl (909 kB)\n",
      "Collecting googleapis-common-protos<2.0dev,>=1.6.0\n",
      "  Downloading googleapis_common_protos-1.53.0-py2.py3-none-any.whl (198 kB)\n",
      "Requirement already satisfied: packaging>=14.3 in c:\\users\\rajesh kumar\\anaconda3\\lib\\site-packages (from google-api-core<2dev,>=1.21.0->google-api-python-client) (20.4)\n",
      "Requirement already satisfied: setuptools>=40.3.0 in c:\\users\\rajesh kumar\\anaconda3\\lib\\site-packages (from google-api-core<2dev,>=1.21.0->google-api-python-client) (50.3.1.post20201107)\n",
      "Requirement already satisfied: requests<3.0.0dev,>=2.18.0 in c:\\users\\rajesh kumar\\anaconda3\\lib\\site-packages (from google-api-core<2dev,>=1.21.0->google-api-python-client) (2.24.0)\n",
      "Collecting pyasn1-modules>=0.2.1\n",
      "  Downloading pyasn1_modules-0.2.8-py2.py3-none-any.whl (155 kB)\n",
      "Collecting rsa<5,>=3.1.4; python_version >= \"3.6\"\n",
      "  Downloading rsa-4.7.2-py3-none-any.whl (34 kB)\n",
      "Collecting cachetools<5.0,>=2.0.0\n",
      "  Downloading cachetools-4.2.2-py3-none-any.whl (11 kB)\n",
      "Requirement already satisfied: urllib3!=1.25.0,!=1.25.1,<1.26,>=1.21.1 in c:\\users\\rajesh kumar\\anaconda3\\lib\\site-packages (from requests<3.0.0dev,>=2.18.0->google-api-core<2dev,>=1.21.0->google-api-python-client) (1.25.11)\n",
      "Requirement already satisfied: idna<3,>=2.5 in c:\\users\\rajesh kumar\\anaconda3\\lib\\site-packages (from requests<3.0.0dev,>=2.18.0->google-api-core<2dev,>=1.21.0->google-api-python-client) (2.10)\n",
      "Requirement already satisfied: chardet<4,>=3.0.2 in c:\\users\\rajesh kumar\\anaconda3\\lib\\site-packages (from requests<3.0.0dev,>=2.18.0->google-api-core<2dev,>=1.21.0->google-api-python-client) (3.0.4)\n",
      "Requirement already satisfied: certifi>=2017.4.17 in c:\\users\\rajesh kumar\\anaconda3\\lib\\site-packages (from requests<3.0.0dev,>=2.18.0->google-api-core<2dev,>=1.21.0->google-api-python-client) (2020.6.20)\n",
      "Collecting pyasn1<0.5.0,>=0.4.6\n",
      "  Downloading pyasn1-0.4.8-py2.py3-none-any.whl (77 kB)\n",
      "Installing collected packages: pyasn1, pyasn1-modules, rsa, cachetools, google-auth, httplib2, google-auth-httplib2, protobuf, googleapis-common-protos, google-api-core, uritemplate, google-api-python-client\n",
      "Successfully installed cachetools-4.2.2 google-api-core-1.30.0 google-api-python-client-2.12.0 google-auth-1.32.1 google-auth-httplib2-0.1.0 googleapis-common-protos-1.53.0 httplib2-0.19.1 protobuf-3.17.3 pyasn1-0.4.8 pyasn1-modules-0.2.8 rsa-4.7.2 uritemplate-3.0.1\n"
     ]
    }
   ],
   "source": [
    "!pip install google-api-python-client"
   ]
  },
  {
   "cell_type": "code",
   "execution_count": 23,
   "metadata": {},
   "outputs": [],
   "source": [
    "%run ./YT_key.ipynb"
   ]
  },
  {
   "cell_type": "code",
   "execution_count": 24,
   "metadata": {},
   "outputs": [],
   "source": [
    "from googleapiclient.discovery import build\n",
    "youtube = build('youtube', 'v3', developerKey=api_key)"
   ]
  },
  {
   "cell_type": "code",
   "execution_count": 25,
   "metadata": {},
   "outputs": [],
   "source": [
    "import pandas as pd"
   ]
  },
  {
   "cell_type": "code",
   "execution_count": 26,
   "metadata": {},
   "outputs": [],
   "source": [
    "ID = [\"89mbSsKiWg0\" , \"JPYKelNBa04\", \"SmW5SThIM6w\", \"P03XzSyy4Lk\",\n",
    "      \"Wsk49yS5lqQ\" , \"kKEQHm_wrNA\", \"cI-2kkz4md4\", \"T45LlTdoKqU\"]"
   ]
  },
  {
   "cell_type": "code",
   "execution_count": 27,
   "metadata": {},
   "outputs": [],
   "source": [
    "box = [['Name', 'Comment', 'Time', 'Likes', 'Reply Count']]\n",
    "n=0"
   ]
  },
  {
   "cell_type": "code",
   "execution_count": 28,
   "metadata": {},
   "outputs": [],
   "source": [
    "def scrape_comments_with_replies(n):\n",
    "    data = youtube.commentThreads().list(part='snippet', videoId=ID[n], maxResults='100', textFormat=\"plainText\").execute()\n",
    "\n",
    "    for i in data[\"items\"]:\n",
    "\n",
    "        name = i[\"snippet\"]['topLevelComment'][\"snippet\"][\"authorDisplayName\"]\n",
    "        comment = i[\"snippet\"]['topLevelComment'][\"snippet\"][\"textDisplay\"]\n",
    "        published_at = i[\"snippet\"]['topLevelComment'][\"snippet\"]['publishedAt']\n",
    "        likes = i[\"snippet\"]['topLevelComment'][\"snippet\"]['likeCount']\n",
    "        replies = i[\"snippet\"]['totalReplyCount']\n",
    "\n",
    "        box.append([name, comment, published_at, likes, replies])\n",
    "\n",
    "        totalReplyCount = i[\"snippet\"]['totalReplyCount']\n",
    "\n",
    "        if totalReplyCount > 0:\n",
    "\n",
    "            parent = i[\"snippet\"]['topLevelComment'][\"id\"]\n",
    "\n",
    "            data2 = youtube.comments().list(part='snippet', maxResults='100', parentId=parent,\n",
    "                                            textFormat=\"plainText\").execute()\n",
    "\n",
    "            for i in data2[\"items\"]:\n",
    "                name = i[\"snippet\"][\"authorDisplayName\"]\n",
    "                comment = i[\"snippet\"][\"textDisplay\"]\n",
    "                published_at = i[\"snippet\"]['publishedAt']\n",
    "                likes = i[\"snippet\"]['likeCount']\n",
    "                replies = \"\"\n",
    "\n",
    "                box.append([name, comment, published_at, likes, replies])\n",
    "\n",
    "    while (\"nextPageToken\" in data):\n",
    "\n",
    "        data = youtube.commentThreads().list(part='snippet', videoId=ID[n], pageToken=data[\"nextPageToken\"],\n",
    "                                             maxResults='100', textFormat=\"plainText\").execute()\n",
    "\n",
    "        for i in data[\"items\"]:\n",
    "            name = i[\"snippet\"]['topLevelComment'][\"snippet\"][\"authorDisplayName\"]\n",
    "            comment = i[\"snippet\"]['topLevelComment'][\"snippet\"][\"textDisplay\"]\n",
    "            published_at = i[\"snippet\"]['topLevelComment'][\"snippet\"]['publishedAt']\n",
    "            likes = i[\"snippet\"]['topLevelComment'][\"snippet\"]['likeCount']\n",
    "            replies = i[\"snippet\"]['totalReplyCount']\n",
    "\n",
    "            box.append([name, comment, published_at, likes, replies])\n",
    "\n",
    "            totalReplyCount = i[\"snippet\"]['totalReplyCount']\n",
    "\n",
    "            if totalReplyCount > 0:\n",
    "\n",
    "                parent = i[\"snippet\"]['topLevelComment'][\"id\"]\n",
    "\n",
    "                data2 = youtube.comments().list(part='snippet', maxResults='100', parentId=parent,\n",
    "                                                textFormat=\"plainText\").execute()\n",
    "\n",
    "                for i in data2[\"items\"]:\n",
    "                    name = i[\"snippet\"][\"authorDisplayName\"]\n",
    "                    comment = i[\"snippet\"][\"textDisplay\"]\n",
    "                    published_at = i[\"snippet\"]['publishedAt']\n",
    "                    likes = i[\"snippet\"]['likeCount']\n",
    "                    replies = ''\n",
    "\n",
    "                    box.append([name, comment, published_at, likes, replies])\n",
    "\n",
    "    df = pd.DataFrame({'Name': [i[0] for i in box], 'Comment': [i[1] for i in box], 'Time': [i[2] for i in box],\n",
    "                       'Likes': [i[3] for i in box], 'Reply Count': [i[4] for i in box]})\n",
    "    df.to_csv('dsim_youtubecomments_bySwapnil.csv', index=False, header=False)\n",
    "\n",
    "while(n<len(ID)):\n",
    "  scrape_comments_with_replies(n)\n",
    "  n=n+1"
   ]
  },
  {
   "cell_type": "code",
   "execution_count": null,
   "metadata": {},
   "outputs": [],
   "source": []
  }
 ],
 "metadata": {
  "kernelspec": {
   "display_name": "Python 3",
   "language": "python",
   "name": "python3"
  },
  "language_info": {
   "codemirror_mode": {
    "name": "ipython",
    "version": 3
   },
   "file_extension": ".py",
   "mimetype": "text/x-python",
   "name": "python",
   "nbconvert_exporter": "python",
   "pygments_lexer": "ipython3",
   "version": "3.8.5"
  }
 },
 "nbformat": 4,
 "nbformat_minor": 4
}
