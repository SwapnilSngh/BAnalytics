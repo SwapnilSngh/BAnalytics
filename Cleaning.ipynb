{
 "cells": [
  {
   "cell_type": "code",
   "execution_count": 1,
   "id": "71e45fee",
   "metadata": {},
   "outputs": [],
   "source": [
    "# for mathemaical operations\n",
    "import numpy as np\n",
    "# for dataframe manipulations\n",
    "import pandas as pd"
   ]
  },
  {
   "cell_type": "code",
   "execution_count": 2,
   "id": "946523ce",
   "metadata": {},
   "outputs": [
    {
     "data": {
      "text/plain": [
       "(1486, 6)"
      ]
     },
     "execution_count": 2,
     "metadata": {},
     "output_type": "execute_result"
    }
   ],
   "source": [
    "data = pd.read_excel('SSGB.xlsx')\n",
    "data.shape"
   ]
  },
  {
   "cell_type": "code",
   "execution_count": 3,
   "id": "2d939c58",
   "metadata": {},
   "outputs": [
    {
     "data": {
      "text/html": [
       "<div>\n",
       "<style scoped>\n",
       "    .dataframe tbody tr th:only-of-type {\n",
       "        vertical-align: middle;\n",
       "    }\n",
       "\n",
       "    .dataframe tbody tr th {\n",
       "        vertical-align: top;\n",
       "    }\n",
       "\n",
       "    .dataframe thead th {\n",
       "        text-align: right;\n",
       "    }\n",
       "</style>\n",
       "<table border=\"1\" class=\"dataframe\">\n",
       "  <thead>\n",
       "    <tr style=\"text-align: right;\">\n",
       "      <th></th>\n",
       "      <th>Date</th>\n",
       "      <th>Councellor Name</th>\n",
       "      <th>Course Type</th>\n",
       "      <th>Fees Received</th>\n",
       "      <th>Fees Total</th>\n",
       "      <th>Fees Pending</th>\n",
       "    </tr>\n",
       "  </thead>\n",
       "  <tbody>\n",
       "    <tr>\n",
       "      <th>0</th>\n",
       "      <td>2020-04-01</td>\n",
       "      <td>Manish</td>\n",
       "      <td>SSGB LVC</td>\n",
       "      <td>5000</td>\n",
       "      <td>5000</td>\n",
       "      <td>0</td>\n",
       "    </tr>\n",
       "    <tr>\n",
       "      <th>1</th>\n",
       "      <td>2020-04-01</td>\n",
       "      <td>Manish</td>\n",
       "      <td>SSGB LVC</td>\n",
       "      <td>5000</td>\n",
       "      <td>5000</td>\n",
       "      <td>0</td>\n",
       "    </tr>\n",
       "    <tr>\n",
       "      <th>2</th>\n",
       "      <td>2020-04-01</td>\n",
       "      <td>Manish</td>\n",
       "      <td>SSGB LVC</td>\n",
       "      <td>5000</td>\n",
       "      <td>5000</td>\n",
       "      <td>0</td>\n",
       "    </tr>\n",
       "    <tr>\n",
       "      <th>3</th>\n",
       "      <td>2020-04-01</td>\n",
       "      <td>Manish</td>\n",
       "      <td>SSGB LVC</td>\n",
       "      <td>5000</td>\n",
       "      <td>5000</td>\n",
       "      <td>0</td>\n",
       "    </tr>\n",
       "    <tr>\n",
       "      <th>4</th>\n",
       "      <td>2020-04-01</td>\n",
       "      <td>Manish</td>\n",
       "      <td>SSGB LVC</td>\n",
       "      <td>5000</td>\n",
       "      <td>5000</td>\n",
       "      <td>0</td>\n",
       "    </tr>\n",
       "  </tbody>\n",
       "</table>\n",
       "</div>"
      ],
      "text/plain": [
       "        Date Councellor Name Course Type Fees Received Fees Total Fees Pending\n",
       "0 2020-04-01          Manish    SSGB LVC          5000       5000            0\n",
       "1 2020-04-01          Manish    SSGB LVC          5000       5000            0\n",
       "2 2020-04-01          Manish    SSGB LVC          5000       5000            0\n",
       "3 2020-04-01          Manish    SSGB LVC          5000       5000            0\n",
       "4 2020-04-01          Manish    SSGB LVC          5000       5000            0"
      ]
     },
     "execution_count": 3,
     "metadata": {},
     "output_type": "execute_result"
    }
   ],
   "source": [
    "data.head()"
   ]
  },
  {
   "cell_type": "code",
   "execution_count": 4,
   "id": "65b022f0",
   "metadata": {},
   "outputs": [
    {
     "data": {
      "text/plain": [
       "Date                16\n",
       "Councellor Name     49\n",
       "Course Type         57\n",
       "Fees Received       52\n",
       "Fees Total          56\n",
       "Fees Pending       572\n",
       "dtype: int64"
      ]
     },
     "execution_count": 4,
     "metadata": {},
     "output_type": "execute_result"
    }
   ],
   "source": [
    "data.isnull().sum()"
   ]
  },
  {
   "cell_type": "code",
   "execution_count": 5,
   "id": "d7bd56a1",
   "metadata": {},
   "outputs": [
    {
     "data": {
      "text/plain": [
       "Manish             290\n",
       "Naveen             126\n",
       "Ruby               107\n",
       "Ankit              104\n",
       "Tarun               92\n",
       "Abhishek            84\n",
       "Vipin               81\n",
       "Samreen             81\n",
       "Abhishek C          64\n",
       "Akansha             57\n",
       "Sonam               57\n",
       "Simran              53\n",
       "Priyanka            52\n",
       "Khalid              50\n",
       "Nimra               34\n",
       "Sakshi              21\n",
       "Suyal               20\n",
       "Vineeta             18\n",
       "akansha             15\n",
       "Deepender           12\n",
       "vipin                5\n",
       "Sonali               4\n",
       "Deepti               3\n",
       "Pankaj               3\n",
       "Ujjal                2\n",
       "Consultant           1\n",
       "Councellor Name      1\n",
       "Name: Councellor Name, dtype: int64"
      ]
     },
     "execution_count": 5,
     "metadata": {},
     "output_type": "execute_result"
    }
   ],
   "source": [
    "data['Councellor Name'].value_counts()"
   ]
  },
  {
   "cell_type": "code",
   "execution_count": 6,
   "id": "97ba8fb5",
   "metadata": {},
   "outputs": [],
   "source": [
    "indexNames = data[ (data['Councellor Name'] == 'Councellor Name') | (data['Councellor Name'] == 'Consultant')].index\n",
    "# Delete these row indexes from dataFrame\n",
    "data.drop(indexNames , inplace=True)"
   ]
  },
  {
   "cell_type": "code",
   "execution_count": 7,
   "id": "60f1a05b",
   "metadata": {},
   "outputs": [
    {
     "data": {
      "text/plain": [
       "Manish        290\n",
       "Naveen        126\n",
       "Ruby          107\n",
       "Ankit         104\n",
       "Tarun          92\n",
       "Abhishek       84\n",
       "Samreen        81\n",
       "Vipin          81\n",
       "Abhishek C     64\n",
       "Akansha        57\n",
       "Sonam          57\n",
       "Simran         53\n",
       "Priyanka       52\n",
       "Khalid         50\n",
       "Nimra          34\n",
       "Sakshi         21\n",
       "Suyal          20\n",
       "Vineeta        18\n",
       "akansha        15\n",
       "Deepender      12\n",
       "vipin           5\n",
       "Sonali          4\n",
       "Deepti          3\n",
       "Pankaj          3\n",
       "Ujjal           2\n",
       "Name: Councellor Name, dtype: int64"
      ]
     },
     "execution_count": 7,
     "metadata": {},
     "output_type": "execute_result"
    }
   ],
   "source": [
    "data['Councellor Name'].value_counts()"
   ]
  },
  {
   "cell_type": "code",
   "execution_count": 8,
   "id": "36dc62f8",
   "metadata": {},
   "outputs": [
    {
     "data": {
      "text/plain": [
       "SSGB            786\n",
       "SSGB LVC        452\n",
       "SSGBLVC          26\n",
       "PMP              15\n",
       "SS GB            12\n",
       "               ... \n",
       "SSGB & BA         1\n",
       "SSGB-Tableau      1\n",
       "SSGB & CAPM       1\n",
       "SSGB+MW           1\n",
       "SAP-MM            1\n",
       "Name: Course Type, Length: 91, dtype: int64"
      ]
     },
     "execution_count": 8,
     "metadata": {},
     "output_type": "execute_result"
    }
   ],
   "source": [
    "data['Course Type'].value_counts()"
   ]
  },
  {
   "cell_type": "code",
   "execution_count": 9,
   "id": "a785650b",
   "metadata": {},
   "outputs": [],
   "source": [
    "data = data[data['Councellor Name'].notna() & data['Course Type'].notna()]"
   ]
  },
  {
   "cell_type": "code",
   "execution_count": 10,
   "id": "25965c53",
   "metadata": {},
   "outputs": [
    {
     "data": {
      "text/plain": [
       "Date                 0\n",
       "Councellor Name      0\n",
       "Course Type          0\n",
       "Fees Received        1\n",
       "Fees Total           4\n",
       "Fees Pending       525\n",
       "dtype: int64"
      ]
     },
     "execution_count": 10,
     "metadata": {},
     "output_type": "execute_result"
    }
   ],
   "source": [
    "data.isnull().sum()"
   ]
  },
  {
   "cell_type": "code",
   "execution_count": 11,
   "id": "6035c7b1",
   "metadata": {},
   "outputs": [],
   "source": [
    "data = data[data['Fees Received'].notna() & data['Fees Total'].notna()]"
   ]
  },
  {
   "cell_type": "code",
   "execution_count": 12,
   "id": "03edfd89",
   "metadata": {},
   "outputs": [
    {
     "data": {
      "text/plain": [
       "Date                 0\n",
       "Councellor Name      0\n",
       "Course Type          0\n",
       "Fees Received        0\n",
       "Fees Total           0\n",
       "Fees Pending       521\n",
       "dtype: int64"
      ]
     },
     "execution_count": 12,
     "metadata": {},
     "output_type": "execute_result"
    }
   ],
   "source": [
    "data.isnull().sum()"
   ]
  },
  {
   "cell_type": "code",
   "execution_count": 13,
   "id": "d5e59506",
   "metadata": {},
   "outputs": [
    {
     "data": {
      "text/plain": [
       "(1421, 6)"
      ]
     },
     "execution_count": 13,
     "metadata": {},
     "output_type": "execute_result"
    }
   ],
   "source": [
    "data.shape"
   ]
  },
  {
   "cell_type": "code",
   "execution_count": 14,
   "id": "1e3b89bf",
   "metadata": {},
   "outputs": [
    {
     "data": {
      "text/html": [
       "<div>\n",
       "<style scoped>\n",
       "    .dataframe tbody tr th:only-of-type {\n",
       "        vertical-align: middle;\n",
       "    }\n",
       "\n",
       "    .dataframe tbody tr th {\n",
       "        vertical-align: top;\n",
       "    }\n",
       "\n",
       "    .dataframe thead th {\n",
       "        text-align: right;\n",
       "    }\n",
       "</style>\n",
       "<table border=\"1\" class=\"dataframe\">\n",
       "  <thead>\n",
       "    <tr style=\"text-align: right;\">\n",
       "      <th></th>\n",
       "      <th>Date</th>\n",
       "      <th>Councellor Name</th>\n",
       "      <th>Course Type</th>\n",
       "      <th>Fees Received</th>\n",
       "      <th>Fees Total</th>\n",
       "      <th>Fees Pending</th>\n",
       "    </tr>\n",
       "  </thead>\n",
       "  <tbody>\n",
       "    <tr>\n",
       "      <th>0</th>\n",
       "      <td>2020-04-01</td>\n",
       "      <td>Manish</td>\n",
       "      <td>SSGB LVC</td>\n",
       "      <td>5000</td>\n",
       "      <td>5000</td>\n",
       "      <td>0</td>\n",
       "    </tr>\n",
       "    <tr>\n",
       "      <th>1</th>\n",
       "      <td>2020-04-01</td>\n",
       "      <td>Manish</td>\n",
       "      <td>SSGB LVC</td>\n",
       "      <td>5000</td>\n",
       "      <td>5000</td>\n",
       "      <td>0</td>\n",
       "    </tr>\n",
       "    <tr>\n",
       "      <th>2</th>\n",
       "      <td>2020-04-01</td>\n",
       "      <td>Manish</td>\n",
       "      <td>SSGB LVC</td>\n",
       "      <td>5000</td>\n",
       "      <td>5000</td>\n",
       "      <td>0</td>\n",
       "    </tr>\n",
       "    <tr>\n",
       "      <th>3</th>\n",
       "      <td>2020-04-01</td>\n",
       "      <td>Manish</td>\n",
       "      <td>SSGB LVC</td>\n",
       "      <td>5000</td>\n",
       "      <td>5000</td>\n",
       "      <td>0</td>\n",
       "    </tr>\n",
       "    <tr>\n",
       "      <th>4</th>\n",
       "      <td>2020-04-01</td>\n",
       "      <td>Manish</td>\n",
       "      <td>SSGB LVC</td>\n",
       "      <td>5000</td>\n",
       "      <td>5000</td>\n",
       "      <td>0</td>\n",
       "    </tr>\n",
       "  </tbody>\n",
       "</table>\n",
       "</div>"
      ],
      "text/plain": [
       "        Date Councellor Name Course Type Fees Received Fees Total Fees Pending\n",
       "0 2020-04-01          Manish    SSGB LVC          5000       5000            0\n",
       "1 2020-04-01          Manish    SSGB LVC          5000       5000            0\n",
       "2 2020-04-01          Manish    SSGB LVC          5000       5000            0\n",
       "3 2020-04-01          Manish    SSGB LVC          5000       5000            0\n",
       "4 2020-04-01          Manish    SSGB LVC          5000       5000            0"
      ]
     },
     "execution_count": 14,
     "metadata": {},
     "output_type": "execute_result"
    }
   ],
   "source": [
    "data.head()"
   ]
  },
  {
   "cell_type": "code",
   "execution_count": 15,
   "id": "6d3d7ca2",
   "metadata": {},
   "outputs": [
    {
     "data": {
      "text/html": [
       "<div>\n",
       "<style scoped>\n",
       "    .dataframe tbody tr th:only-of-type {\n",
       "        vertical-align: middle;\n",
       "    }\n",
       "\n",
       "    .dataframe tbody tr th {\n",
       "        vertical-align: top;\n",
       "    }\n",
       "\n",
       "    .dataframe thead th {\n",
       "        text-align: right;\n",
       "    }\n",
       "</style>\n",
       "<table border=\"1\" class=\"dataframe\">\n",
       "  <thead>\n",
       "    <tr style=\"text-align: right;\">\n",
       "      <th></th>\n",
       "      <th>Date</th>\n",
       "      <th>Councellor Name</th>\n",
       "      <th>Course Type</th>\n",
       "      <th>Fees Received</th>\n",
       "      <th>Fees Total</th>\n",
       "      <th>Fees Pending</th>\n",
       "    </tr>\n",
       "  </thead>\n",
       "  <tbody>\n",
       "    <tr>\n",
       "      <th>1465</th>\n",
       "      <td>2021-07-01</td>\n",
       "      <td>Priyanka</td>\n",
       "      <td>SSGB</td>\n",
       "      <td>8500</td>\n",
       "      <td>8500</td>\n",
       "      <td>NaN</td>\n",
       "    </tr>\n",
       "    <tr>\n",
       "      <th>1466</th>\n",
       "      <td>2021-07-01</td>\n",
       "      <td>Ankit</td>\n",
       "      <td>SSGB</td>\n",
       "      <td>15750</td>\n",
       "      <td>15750</td>\n",
       "      <td>NaN</td>\n",
       "    </tr>\n",
       "    <tr>\n",
       "      <th>1467</th>\n",
       "      <td>2021-07-01</td>\n",
       "      <td>Samreen</td>\n",
       "      <td>CBAP</td>\n",
       "      <td>16350</td>\n",
       "      <td>16350</td>\n",
       "      <td>NaN</td>\n",
       "    </tr>\n",
       "    <tr>\n",
       "      <th>1468</th>\n",
       "      <td>2021-07-01</td>\n",
       "      <td>Sonam</td>\n",
       "      <td>SSGB</td>\n",
       "      <td>14225</td>\n",
       "      <td>14225</td>\n",
       "      <td>NaN</td>\n",
       "    </tr>\n",
       "    <tr>\n",
       "      <th>1469</th>\n",
       "      <td>2021-07-01</td>\n",
       "      <td>Sonali</td>\n",
       "      <td>SSGB</td>\n",
       "      <td>10500</td>\n",
       "      <td>10500</td>\n",
       "      <td>NaN</td>\n",
       "    </tr>\n",
       "  </tbody>\n",
       "</table>\n",
       "</div>"
      ],
      "text/plain": [
       "           Date Councellor Name Course Type Fees Received Fees Total  \\\n",
       "1465 2021-07-01        Priyanka        SSGB          8500       8500   \n",
       "1466 2021-07-01           Ankit        SSGB         15750      15750   \n",
       "1467 2021-07-01         Samreen        CBAP         16350      16350   \n",
       "1468 2021-07-01           Sonam        SSGB         14225      14225   \n",
       "1469 2021-07-01          Sonali        SSGB         10500      10500   \n",
       "\n",
       "     Fees Pending  \n",
       "1465          NaN  \n",
       "1466          NaN  \n",
       "1467          NaN  \n",
       "1468          NaN  \n",
       "1469          NaN  "
      ]
     },
     "execution_count": 15,
     "metadata": {},
     "output_type": "execute_result"
    }
   ],
   "source": [
    "data.tail()"
   ]
  },
  {
   "cell_type": "code",
   "execution_count": 16,
   "id": "2521da04",
   "metadata": {},
   "outputs": [
    {
     "data": {
      "text/plain": [
       "0                                            882\n",
       "6125                                           3\n",
       "10000                                          2\n",
       "9000                                           1\n",
       "4400                                           1\n",
       "dues cleared in oct by naveen, coloumn 43      1\n",
       "dues cleared in OCT by Naveen. coloumn 44      1\n",
       "7500                                           1\n",
       "6000                                           1\n",
       "5000                                           1\n",
       "14750                                          1\n",
       "3500                                           1\n",
       "Dues cleared by Naveen in Oct ssgb             1\n",
       "-8500                                          1\n",
       "12500                                          1\n",
       "12000                                          1\n",
       "Name: Fees Pending, dtype: int64"
      ]
     },
     "execution_count": 16,
     "metadata": {},
     "output_type": "execute_result"
    }
   ],
   "source": [
    "data['Fees Pending'].value_counts()"
   ]
  },
  {
   "cell_type": "code",
   "execution_count": 17,
   "id": "c0b7907b",
   "metadata": {},
   "outputs": [],
   "source": [
    "data=data.drop(['Fees Pending'], axis = 1)"
   ]
  },
  {
   "cell_type": "code",
   "execution_count": 18,
   "id": "93154378",
   "metadata": {},
   "outputs": [
    {
     "data": {
      "text/plain": [
       "Date               0\n",
       "Councellor Name    0\n",
       "Course Type        0\n",
       "Fees Received      0\n",
       "Fees Total         0\n",
       "dtype: int64"
      ]
     },
     "execution_count": 18,
     "metadata": {},
     "output_type": "execute_result"
    }
   ],
   "source": [
    "data.isnull().sum()"
   ]
  },
  {
   "cell_type": "code",
   "execution_count": 19,
   "id": "536a4584",
   "metadata": {},
   "outputs": [
    {
     "data": {
      "text/plain": [
       "(1421, 5)"
      ]
     },
     "execution_count": 19,
     "metadata": {},
     "output_type": "execute_result"
    }
   ],
   "source": [
    "data.shape"
   ]
  },
  {
   "cell_type": "code",
   "execution_count": 20,
   "id": "1fd84735",
   "metadata": {},
   "outputs": [
    {
     "data": {
      "text/html": [
       "<div>\n",
       "<style scoped>\n",
       "    .dataframe tbody tr th:only-of-type {\n",
       "        vertical-align: middle;\n",
       "    }\n",
       "\n",
       "    .dataframe tbody tr th {\n",
       "        vertical-align: top;\n",
       "    }\n",
       "\n",
       "    .dataframe thead th {\n",
       "        text-align: right;\n",
       "    }\n",
       "</style>\n",
       "<table border=\"1\" class=\"dataframe\">\n",
       "  <thead>\n",
       "    <tr style=\"text-align: right;\">\n",
       "      <th></th>\n",
       "      <th>Date</th>\n",
       "      <th>Councellor Name</th>\n",
       "      <th>Course Type</th>\n",
       "      <th>Fees Received</th>\n",
       "      <th>Fees Total</th>\n",
       "    </tr>\n",
       "  </thead>\n",
       "  <tbody>\n",
       "    <tr>\n",
       "      <th>0</th>\n",
       "      <td>2020-04-01</td>\n",
       "      <td>Manish</td>\n",
       "      <td>SSGB LVC</td>\n",
       "      <td>5000</td>\n",
       "      <td>5000</td>\n",
       "    </tr>\n",
       "    <tr>\n",
       "      <th>1</th>\n",
       "      <td>2020-04-01</td>\n",
       "      <td>Manish</td>\n",
       "      <td>SSGB LVC</td>\n",
       "      <td>5000</td>\n",
       "      <td>5000</td>\n",
       "    </tr>\n",
       "    <tr>\n",
       "      <th>2</th>\n",
       "      <td>2020-04-01</td>\n",
       "      <td>Manish</td>\n",
       "      <td>SSGB LVC</td>\n",
       "      <td>5000</td>\n",
       "      <td>5000</td>\n",
       "    </tr>\n",
       "    <tr>\n",
       "      <th>3</th>\n",
       "      <td>2020-04-01</td>\n",
       "      <td>Manish</td>\n",
       "      <td>SSGB LVC</td>\n",
       "      <td>5000</td>\n",
       "      <td>5000</td>\n",
       "    </tr>\n",
       "    <tr>\n",
       "      <th>4</th>\n",
       "      <td>2020-04-01</td>\n",
       "      <td>Manish</td>\n",
       "      <td>SSGB LVC</td>\n",
       "      <td>5000</td>\n",
       "      <td>5000</td>\n",
       "    </tr>\n",
       "  </tbody>\n",
       "</table>\n",
       "</div>"
      ],
      "text/plain": [
       "        Date Councellor Name Course Type Fees Received Fees Total\n",
       "0 2020-04-01          Manish    SSGB LVC          5000       5000\n",
       "1 2020-04-01          Manish    SSGB LVC          5000       5000\n",
       "2 2020-04-01          Manish    SSGB LVC          5000       5000\n",
       "3 2020-04-01          Manish    SSGB LVC          5000       5000\n",
       "4 2020-04-01          Manish    SSGB LVC          5000       5000"
      ]
     },
     "execution_count": 20,
     "metadata": {},
     "output_type": "execute_result"
    }
   ],
   "source": [
    "data.head()"
   ]
  },
  {
   "cell_type": "code",
   "execution_count": 21,
   "id": "fc93995f",
   "metadata": {},
   "outputs": [
    {
     "data": {
      "text/plain": [
       "SSGB                 783\n",
       "SSGB LVC             450\n",
       "SSGBLVC               26\n",
       "PMP                   15\n",
       "SS GB                 12\n",
       "                    ... \n",
       "MBB                    1\n",
       "SSGB-                  1\n",
       "Digital Marketing      1\n",
       "SSGB & PMP             1\n",
       "CFAP                   1\n",
       "Name: Course Type, Length: 90, dtype: int64"
      ]
     },
     "execution_count": 21,
     "metadata": {},
     "output_type": "execute_result"
    }
   ],
   "source": [
    "data['Course Type'].value_counts()"
   ]
  },
  {
   "cell_type": "code",
   "execution_count": 22,
   "id": "ab70e621",
   "metadata": {},
   "outputs": [],
   "source": [
    "data=data.replace(to_replace =\"SSGBLVC\",\n",
    "                 value =\"SSGB LVC\")"
   ]
  },
  {
   "cell_type": "code",
   "execution_count": 23,
   "id": "0f2a366a",
   "metadata": {},
   "outputs": [
    {
     "data": {
      "text/plain": [
       "SSGB                 783\n",
       "SSGB LVC             476\n",
       "PMP                   15\n",
       "SS GB                 12\n",
       "RPA                   11\n",
       "                    ... \n",
       "MBB                    1\n",
       "SSGB-                  1\n",
       "Digital Marketing      1\n",
       "SSGB & PMP             1\n",
       "CFAP                   1\n",
       "Name: Course Type, Length: 89, dtype: int64"
      ]
     },
     "execution_count": 23,
     "metadata": {},
     "output_type": "execute_result"
    }
   ],
   "source": [
    "data['Course Type'].value_counts()"
   ]
  },
  {
   "cell_type": "code",
   "execution_count": 24,
   "id": "ff2ea612",
   "metadata": {},
   "outputs": [],
   "source": [
    "data=data.replace(to_replace =\"SS GB\",\n",
    "                 value =\"SSGB\")"
   ]
  },
  {
   "cell_type": "code",
   "execution_count": 25,
   "id": "1a48fc0a",
   "metadata": {},
   "outputs": [
    {
     "data": {
      "text/plain": [
       "SSGB                 795\n",
       "SSGB LVC             476\n",
       "PMP                   15\n",
       "RPA                   11\n",
       "SSGB+Advn Excel        7\n",
       "                    ... \n",
       "SSGB-                  1\n",
       "Digital Marketing      1\n",
       "SSGB & PMP             1\n",
       "CDCDW                  1\n",
       "CFAP                   1\n",
       "Name: Course Type, Length: 88, dtype: int64"
      ]
     },
     "execution_count": 25,
     "metadata": {},
     "output_type": "execute_result"
    }
   ],
   "source": [
    "data['Course Type'].value_counts()"
   ]
  },
  {
   "cell_type": "code",
   "execution_count": 26,
   "id": "d3712b47",
   "metadata": {},
   "outputs": [
    {
     "name": "stdout",
     "output_type": "stream",
     "text": [
      "<class 'pandas.core.frame.DataFrame'>\n",
      "Int64Index: 1421 entries, 0 to 1469\n",
      "Data columns (total 5 columns):\n",
      " #   Column           Non-Null Count  Dtype         \n",
      "---  ------           --------------  -----         \n",
      " 0   Date             1421 non-null   datetime64[ns]\n",
      " 1   Councellor Name  1421 non-null   object        \n",
      " 2   Course Type      1421 non-null   object        \n",
      " 3   Fees Received    1421 non-null   int64         \n",
      " 4   Fees Total       1421 non-null   int64         \n",
      "dtypes: datetime64[ns](1), int64(2), object(2)\n",
      "memory usage: 66.6+ KB\n"
     ]
    }
   ],
   "source": [
    "data.info()"
   ]
  },
  {
   "cell_type": "code",
   "execution_count": 27,
   "id": "ad30f54c",
   "metadata": {},
   "outputs": [
    {
     "data": {
      "text/plain": [
       "0        5000\n",
       "1        5000\n",
       "2        5000\n",
       "3        5000\n",
       "4        5000\n",
       "        ...  \n",
       "1465     8500\n",
       "1466    15750\n",
       "1467    16350\n",
       "1468    14225\n",
       "1469    10500\n",
       "Name: Fees Total, Length: 1421, dtype: int64"
      ]
     },
     "execution_count": 27,
     "metadata": {},
     "output_type": "execute_result"
    }
   ],
   "source": [
    "pd.to_numeric(data['Fees Total'])"
   ]
  },
  {
   "cell_type": "code",
   "execution_count": 28,
   "id": "1d29217c",
   "metadata": {},
   "outputs": [
    {
     "data": {
      "text/html": [
       "<div>\n",
       "<style scoped>\n",
       "    .dataframe tbody tr th:only-of-type {\n",
       "        vertical-align: middle;\n",
       "    }\n",
       "\n",
       "    .dataframe tbody tr th {\n",
       "        vertical-align: top;\n",
       "    }\n",
       "\n",
       "    .dataframe thead th {\n",
       "        text-align: right;\n",
       "    }\n",
       "</style>\n",
       "<table border=\"1\" class=\"dataframe\">\n",
       "  <thead>\n",
       "    <tr style=\"text-align: right;\">\n",
       "      <th></th>\n",
       "      <th>Fees Received</th>\n",
       "      <th>Fees Total</th>\n",
       "    </tr>\n",
       "  </thead>\n",
       "  <tbody>\n",
       "    <tr>\n",
       "      <th>count</th>\n",
       "      <td>1421.000000</td>\n",
       "      <td>1421.000000</td>\n",
       "    </tr>\n",
       "    <tr>\n",
       "      <th>mean</th>\n",
       "      <td>11990.006334</td>\n",
       "      <td>12141.816327</td>\n",
       "    </tr>\n",
       "    <tr>\n",
       "      <th>std</th>\n",
       "      <td>4012.912465</td>\n",
       "      <td>4034.610304</td>\n",
       "    </tr>\n",
       "    <tr>\n",
       "      <th>min</th>\n",
       "      <td>0.000000</td>\n",
       "      <td>0.000000</td>\n",
       "    </tr>\n",
       "    <tr>\n",
       "      <th>25%</th>\n",
       "      <td>10000.000000</td>\n",
       "      <td>10000.000000</td>\n",
       "    </tr>\n",
       "    <tr>\n",
       "      <th>50%</th>\n",
       "      <td>12000.000000</td>\n",
       "      <td>12000.000000</td>\n",
       "    </tr>\n",
       "    <tr>\n",
       "      <th>75%</th>\n",
       "      <td>14000.000000</td>\n",
       "      <td>14000.000000</td>\n",
       "    </tr>\n",
       "    <tr>\n",
       "      <th>max</th>\n",
       "      <td>40000.000000</td>\n",
       "      <td>40000.000000</td>\n",
       "    </tr>\n",
       "  </tbody>\n",
       "</table>\n",
       "</div>"
      ],
      "text/plain": [
       "       Fees Received    Fees Total\n",
       "count    1421.000000   1421.000000\n",
       "mean    11990.006334  12141.816327\n",
       "std      4012.912465   4034.610304\n",
       "min         0.000000      0.000000\n",
       "25%     10000.000000  10000.000000\n",
       "50%     12000.000000  12000.000000\n",
       "75%     14000.000000  14000.000000\n",
       "max     40000.000000  40000.000000"
      ]
     },
     "execution_count": 28,
     "metadata": {},
     "output_type": "execute_result"
    }
   ],
   "source": [
    "data.describe()"
   ]
  },
  {
   "cell_type": "code",
   "execution_count": 29,
   "id": "e955b3dc",
   "metadata": {},
   "outputs": [
    {
     "data": {
      "text/plain": [
       "Date               0\n",
       "Councellor Name    0\n",
       "Course Type        0\n",
       "Fees Received      0\n",
       "Fees Total         0\n",
       "dtype: int64"
      ]
     },
     "execution_count": 29,
     "metadata": {},
     "output_type": "execute_result"
    }
   ],
   "source": [
    "data.isnull().sum()"
   ]
  },
  {
   "cell_type": "code",
   "execution_count": 30,
   "id": "cfebdcb5",
   "metadata": {},
   "outputs": [
    {
     "data": {
      "text/plain": [
       "(1421, 5)"
      ]
     },
     "execution_count": 30,
     "metadata": {},
     "output_type": "execute_result"
    }
   ],
   "source": [
    "data.shape"
   ]
  },
  {
   "cell_type": "code",
   "execution_count": 31,
   "id": "c8458699",
   "metadata": {},
   "outputs": [],
   "source": [
    "data['year'] = pd.DatetimeIndex(data['Date']).year\n",
    "data['month'] = pd.DatetimeIndex(data['Date']).month"
   ]
  },
  {
   "cell_type": "code",
   "execution_count": 32,
   "id": "54247f58",
   "metadata": {},
   "outputs": [
    {
     "data": {
      "text/html": [
       "<div>\n",
       "<style scoped>\n",
       "    .dataframe tbody tr th:only-of-type {\n",
       "        vertical-align: middle;\n",
       "    }\n",
       "\n",
       "    .dataframe tbody tr th {\n",
       "        vertical-align: top;\n",
       "    }\n",
       "\n",
       "    .dataframe thead th {\n",
       "        text-align: right;\n",
       "    }\n",
       "</style>\n",
       "<table border=\"1\" class=\"dataframe\">\n",
       "  <thead>\n",
       "    <tr style=\"text-align: right;\">\n",
       "      <th></th>\n",
       "      <th>Date</th>\n",
       "      <th>Councellor Name</th>\n",
       "      <th>Course Type</th>\n",
       "      <th>Fees Received</th>\n",
       "      <th>Fees Total</th>\n",
       "      <th>year</th>\n",
       "      <th>month</th>\n",
       "    </tr>\n",
       "  </thead>\n",
       "  <tbody>\n",
       "    <tr>\n",
       "      <th>0</th>\n",
       "      <td>2020-04-01</td>\n",
       "      <td>Manish</td>\n",
       "      <td>SSGB LVC</td>\n",
       "      <td>5000</td>\n",
       "      <td>5000</td>\n",
       "      <td>2020</td>\n",
       "      <td>4</td>\n",
       "    </tr>\n",
       "    <tr>\n",
       "      <th>1</th>\n",
       "      <td>2020-04-01</td>\n",
       "      <td>Manish</td>\n",
       "      <td>SSGB LVC</td>\n",
       "      <td>5000</td>\n",
       "      <td>5000</td>\n",
       "      <td>2020</td>\n",
       "      <td>4</td>\n",
       "    </tr>\n",
       "    <tr>\n",
       "      <th>2</th>\n",
       "      <td>2020-04-01</td>\n",
       "      <td>Manish</td>\n",
       "      <td>SSGB LVC</td>\n",
       "      <td>5000</td>\n",
       "      <td>5000</td>\n",
       "      <td>2020</td>\n",
       "      <td>4</td>\n",
       "    </tr>\n",
       "    <tr>\n",
       "      <th>3</th>\n",
       "      <td>2020-04-01</td>\n",
       "      <td>Manish</td>\n",
       "      <td>SSGB LVC</td>\n",
       "      <td>5000</td>\n",
       "      <td>5000</td>\n",
       "      <td>2020</td>\n",
       "      <td>4</td>\n",
       "    </tr>\n",
       "    <tr>\n",
       "      <th>4</th>\n",
       "      <td>2020-04-01</td>\n",
       "      <td>Manish</td>\n",
       "      <td>SSGB LVC</td>\n",
       "      <td>5000</td>\n",
       "      <td>5000</td>\n",
       "      <td>2020</td>\n",
       "      <td>4</td>\n",
       "    </tr>\n",
       "  </tbody>\n",
       "</table>\n",
       "</div>"
      ],
      "text/plain": [
       "        Date Councellor Name Course Type  Fees Received  Fees Total  year  \\\n",
       "0 2020-04-01          Manish    SSGB LVC           5000        5000  2020   \n",
       "1 2020-04-01          Manish    SSGB LVC           5000        5000  2020   \n",
       "2 2020-04-01          Manish    SSGB LVC           5000        5000  2020   \n",
       "3 2020-04-01          Manish    SSGB LVC           5000        5000  2020   \n",
       "4 2020-04-01          Manish    SSGB LVC           5000        5000  2020   \n",
       "\n",
       "   month  \n",
       "0      4  \n",
       "1      4  \n",
       "2      4  \n",
       "3      4  \n",
       "4      4  "
      ]
     },
     "execution_count": 32,
     "metadata": {},
     "output_type": "execute_result"
    }
   ],
   "source": [
    "data.head()"
   ]
  },
  {
   "cell_type": "code",
   "execution_count": 33,
   "id": "e299c683",
   "metadata": {},
   "outputs": [
    {
     "data": {
      "text/html": [
       "<div>\n",
       "<style scoped>\n",
       "    .dataframe tbody tr th:only-of-type {\n",
       "        vertical-align: middle;\n",
       "    }\n",
       "\n",
       "    .dataframe tbody tr th {\n",
       "        vertical-align: top;\n",
       "    }\n",
       "\n",
       "    .dataframe thead th {\n",
       "        text-align: right;\n",
       "    }\n",
       "</style>\n",
       "<table border=\"1\" class=\"dataframe\">\n",
       "  <thead>\n",
       "    <tr style=\"text-align: right;\">\n",
       "      <th></th>\n",
       "      <th>Date</th>\n",
       "      <th>Councellor Name</th>\n",
       "      <th>Course Type</th>\n",
       "      <th>Fees Received</th>\n",
       "      <th>Fees Total</th>\n",
       "      <th>year</th>\n",
       "      <th>month</th>\n",
       "    </tr>\n",
       "  </thead>\n",
       "  <tbody>\n",
       "    <tr>\n",
       "      <th>1465</th>\n",
       "      <td>2021-07-01</td>\n",
       "      <td>Priyanka</td>\n",
       "      <td>SSGB</td>\n",
       "      <td>8500</td>\n",
       "      <td>8500</td>\n",
       "      <td>2021</td>\n",
       "      <td>7</td>\n",
       "    </tr>\n",
       "    <tr>\n",
       "      <th>1466</th>\n",
       "      <td>2021-07-01</td>\n",
       "      <td>Ankit</td>\n",
       "      <td>SSGB</td>\n",
       "      <td>15750</td>\n",
       "      <td>15750</td>\n",
       "      <td>2021</td>\n",
       "      <td>7</td>\n",
       "    </tr>\n",
       "    <tr>\n",
       "      <th>1467</th>\n",
       "      <td>2021-07-01</td>\n",
       "      <td>Samreen</td>\n",
       "      <td>CBAP</td>\n",
       "      <td>16350</td>\n",
       "      <td>16350</td>\n",
       "      <td>2021</td>\n",
       "      <td>7</td>\n",
       "    </tr>\n",
       "    <tr>\n",
       "      <th>1468</th>\n",
       "      <td>2021-07-01</td>\n",
       "      <td>Sonam</td>\n",
       "      <td>SSGB</td>\n",
       "      <td>14225</td>\n",
       "      <td>14225</td>\n",
       "      <td>2021</td>\n",
       "      <td>7</td>\n",
       "    </tr>\n",
       "    <tr>\n",
       "      <th>1469</th>\n",
       "      <td>2021-07-01</td>\n",
       "      <td>Sonali</td>\n",
       "      <td>SSGB</td>\n",
       "      <td>10500</td>\n",
       "      <td>10500</td>\n",
       "      <td>2021</td>\n",
       "      <td>7</td>\n",
       "    </tr>\n",
       "  </tbody>\n",
       "</table>\n",
       "</div>"
      ],
      "text/plain": [
       "           Date Councellor Name Course Type  Fees Received  Fees Total  year  \\\n",
       "1465 2021-07-01        Priyanka        SSGB           8500        8500  2021   \n",
       "1466 2021-07-01           Ankit        SSGB          15750       15750  2021   \n",
       "1467 2021-07-01         Samreen        CBAP          16350       16350  2021   \n",
       "1468 2021-07-01           Sonam        SSGB          14225       14225  2021   \n",
       "1469 2021-07-01          Sonali        SSGB          10500       10500  2021   \n",
       "\n",
       "      month  \n",
       "1465      7  \n",
       "1466      7  \n",
       "1467      7  \n",
       "1468      7  \n",
       "1469      7  "
      ]
     },
     "execution_count": 33,
     "metadata": {},
     "output_type": "execute_result"
    }
   ],
   "source": [
    "data.tail()"
   ]
  },
  {
   "cell_type": "code",
   "execution_count": 34,
   "id": "e6f333e1",
   "metadata": {},
   "outputs": [],
   "source": [
    "file_name = 'SSGB_modified.xlsx'"
   ]
  },
  {
   "cell_type": "code",
   "execution_count": 35,
   "id": "18024a51",
   "metadata": {},
   "outputs": [],
   "source": [
    "data.to_excel(file_name)"
   ]
  }
 ],
 "metadata": {
  "kernelspec": {
   "display_name": "Python 3",
   "language": "python",
   "name": "python3"
  },
  "language_info": {
   "codemirror_mode": {
    "name": "ipython",
    "version": 3
   },
   "file_extension": ".py",
   "mimetype": "text/x-python",
   "name": "python",
   "nbconvert_exporter": "python",
   "pygments_lexer": "ipython3",
   "version": "3.8.8"
  }
 },
 "nbformat": 4,
 "nbformat_minor": 5
}
