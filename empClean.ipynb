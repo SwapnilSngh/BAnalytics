{
 "cells": [
  {
   "cell_type": "code",
   "execution_count": 40,
   "id": "767e8628",
   "metadata": {},
   "outputs": [],
   "source": [
    "import pandas as pd\n",
    "import numpy as np"
   ]
  },
  {
   "cell_type": "code",
   "execution_count": 41,
   "id": "607c434b",
   "metadata": {},
   "outputs": [],
   "source": [
    "data = pd.read_excel('C:/Users/swapn/OneDrive/Documents/Henry Harvin Internship/combined.xlsx')"
   ]
  },
  {
   "cell_type": "code",
   "execution_count": 42,
   "id": "43255f73",
   "metadata": {},
   "outputs": [
    {
     "data": {
      "text/html": [
       "<div>\n",
       "<style scoped>\n",
       "    .dataframe tbody tr th:only-of-type {\n",
       "        vertical-align: middle;\n",
       "    }\n",
       "\n",
       "    .dataframe tbody tr th {\n",
       "        vertical-align: top;\n",
       "    }\n",
       "\n",
       "    .dataframe thead th {\n",
       "        text-align: right;\n",
       "    }\n",
       "</style>\n",
       "<table border=\"1\" class=\"dataframe\">\n",
       "  <thead>\n",
       "    <tr style=\"text-align: right;\">\n",
       "      <th></th>\n",
       "      <th>Date</th>\n",
       "      <th>Councellor Name</th>\n",
       "      <th>Course Name</th>\n",
       "      <th>Fees Received</th>\n",
       "      <th>Fees Total</th>\n",
       "    </tr>\n",
       "  </thead>\n",
       "  <tbody>\n",
       "    <tr>\n",
       "      <th>0</th>\n",
       "      <td>2020-04-01</td>\n",
       "      <td>SK</td>\n",
       "      <td>CADM</td>\n",
       "      <td>5000.0</td>\n",
       "      <td>5000.0</td>\n",
       "    </tr>\n",
       "    <tr>\n",
       "      <th>1</th>\n",
       "      <td>2020-04-01</td>\n",
       "      <td>SK</td>\n",
       "      <td>CDCW</td>\n",
       "      <td>7500.0</td>\n",
       "      <td>7500.0</td>\n",
       "    </tr>\n",
       "    <tr>\n",
       "      <th>2</th>\n",
       "      <td>2020-04-01</td>\n",
       "      <td>SK</td>\n",
       "      <td>CDCW</td>\n",
       "      <td>9500.0</td>\n",
       "      <td>9500.0</td>\n",
       "    </tr>\n",
       "    <tr>\n",
       "      <th>3</th>\n",
       "      <td>2020-04-01</td>\n",
       "      <td>SK</td>\n",
       "      <td>CDCW</td>\n",
       "      <td>9500.0</td>\n",
       "      <td>9500.0</td>\n",
       "    </tr>\n",
       "    <tr>\n",
       "      <th>4</th>\n",
       "      <td>2020-04-01</td>\n",
       "      <td>SK</td>\n",
       "      <td>CDCW</td>\n",
       "      <td>9000.0</td>\n",
       "      <td>9000.0</td>\n",
       "    </tr>\n",
       "  </tbody>\n",
       "</table>\n",
       "</div>"
      ],
      "text/plain": [
       "        Date Councellor Name Course Name  Fees Received  Fees Total\n",
       "0 2020-04-01              SK        CADM         5000.0      5000.0\n",
       "1 2020-04-01              SK        CDCW         7500.0      7500.0\n",
       "2 2020-04-01              SK        CDCW         9500.0      9500.0\n",
       "3 2020-04-01              SK        CDCW         9500.0      9500.0\n",
       "4 2020-04-01              SK        CDCW         9000.0      9000.0"
      ]
     },
     "execution_count": 42,
     "metadata": {},
     "output_type": "execute_result"
    }
   ],
   "source": [
    "data.head()"
   ]
  },
  {
   "cell_type": "code",
   "execution_count": 43,
   "id": "34166409",
   "metadata": {},
   "outputs": [
    {
     "data": {
      "text/plain": [
       "Date               0\n",
       "Councellor Name    0\n",
       "Course Name        0\n",
       "Fees Received      1\n",
       "Fees Total         7\n",
       "dtype: int64"
      ]
     },
     "execution_count": 43,
     "metadata": {},
     "output_type": "execute_result"
    }
   ],
   "source": [
    "data.isnull().sum()"
   ]
  },
  {
   "cell_type": "code",
   "execution_count": 44,
   "id": "d09b44ae",
   "metadata": {},
   "outputs": [
    {
     "data": {
      "text/plain": [
       "Manish              428\n",
       "Pooja               322\n",
       "IJ                  314\n",
       "MM                  314\n",
       "SS                  310\n",
       "                   ... \n",
       "]                     1\n",
       "Jyoti                 1\n",
       "Abhishek Chauhan      1\n",
       "779962                1\n",
       "Vidushi               1\n",
       "Name: Councellor Name, Length: 83, dtype: int64"
      ]
     },
     "execution_count": 44,
     "metadata": {},
     "output_type": "execute_result"
    }
   ],
   "source": [
    "data['Councellor Name'].value_counts()"
   ]
  },
  {
   "cell_type": "code",
   "execution_count": 45,
   "id": "dfd3a8fe",
   "metadata": {},
   "outputs": [],
   "source": [
    "data = data.replace(to_replace = \"Abhishek C\", value = \"Abhishek Chauhan\")"
   ]
  },
  {
   "cell_type": "code",
   "execution_count": 46,
   "id": "c60f7cff",
   "metadata": {},
   "outputs": [],
   "source": [
    "data = data.replace(to_replace = \"APOORVA\", value = \"Apoorva\")"
   ]
  },
  {
   "cell_type": "code",
   "execution_count": 47,
   "id": "2f4ed9ea",
   "metadata": {},
   "outputs": [],
   "source": [
    "data = data.replace(to_replace = \"KIM\", value = \"Kim\")"
   ]
  },
  {
   "cell_type": "code",
   "execution_count": 48,
   "id": "acb27dd6",
   "metadata": {},
   "outputs": [],
   "source": [
    "data = data.replace(to_replace = \"Namarta\", value = \"Namrata\")"
   ]
  },
  {
   "cell_type": "code",
   "execution_count": 49,
   "id": "f6f9f990",
   "metadata": {},
   "outputs": [],
   "source": [
    "data = data.replace(to_replace = \"akansha\", value = \"Akansha\")"
   ]
  },
  {
   "cell_type": "code",
   "execution_count": 50,
   "id": "0c628808",
   "metadata": {},
   "outputs": [],
   "source": [
    "data = data.replace(to_replace = \"vipin\", value = \"Vipin\")"
   ]
  },
  {
   "cell_type": "code",
   "execution_count": 51,
   "id": "d6bede36",
   "metadata": {},
   "outputs": [],
   "source": [
    "data = data.replace(to_replace = \"MANISH\", value = \"Manish\")"
   ]
  },
  {
   "cell_type": "code",
   "execution_count": 52,
   "id": "cbb7c057",
   "metadata": {},
   "outputs": [],
   "source": [
    "data = data.replace(to_replace = \"sahiba\", value = \"Sahiba\")"
   ]
  },
  {
   "cell_type": "code",
   "execution_count": 53,
   "id": "05ddddb2",
   "metadata": {},
   "outputs": [],
   "source": [
    "data = data.replace(to_replace = \"shanoon\", value = \"Shanoon\")"
   ]
  },
  {
   "cell_type": "code",
   "execution_count": 54,
   "id": "82d72f9d",
   "metadata": {},
   "outputs": [],
   "source": [
    "data.to_excel('combinedEmp.xlsx')"
   ]
  },
  {
   "cell_type": "code",
   "execution_count": null,
   "id": "87d64beb",
   "metadata": {},
   "outputs": [],
   "source": []
  }
 ],
 "metadata": {
  "kernelspec": {
   "display_name": "Python 3",
   "language": "python",
   "name": "python3"
  },
  "language_info": {
   "codemirror_mode": {
    "name": "ipython",
    "version": 3
   },
   "file_extension": ".py",
   "mimetype": "text/x-python",
   "name": "python",
   "nbconvert_exporter": "python",
   "pygments_lexer": "ipython3",
   "version": "3.8.8"
  }
 },
 "nbformat": 4,
 "nbformat_minor": 5
}
